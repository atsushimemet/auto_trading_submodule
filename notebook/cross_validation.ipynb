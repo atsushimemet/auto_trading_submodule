{
 "cells": [
  {
   "cell_type": "markdown",
   "id": "741de030-a00f-4439-b3cf-efac7124dfca",
   "metadata": {
    "tags": []
   },
   "source": [
    "# 参考資料"
   ]
  },
  {
   "cell_type": "markdown",
   "id": "782c3038-00a6-430e-bc0c-500fc8ca1d8e",
   "metadata": {},
   "source": [
    "# Environment"
   ]
  },
  {
   "cell_type": "markdown",
   "id": "21166be4-678a-4eb8-8fed-9fb765e12a65",
   "metadata": {},
   "source": [
    "## Libraries"
   ]
  },
  {
   "cell_type": "code",
   "execution_count": 165,
   "id": "d4593051-a36c-4dd4-8536-7b00ec9c783e",
   "metadata": {},
   "outputs": [],
   "source": [
    "import sys\n",
    "\n",
    "sys.path.append(\"../\")\n",
    "from calendar import month_name\n",
    "\n",
    "import lightgbm as lgb\n",
    "import pandas as pd\n",
    "import seaborn as sns\n",
    "from datamart import Datamart\n",
    "from feature import Feature\n",
    "from matplotlib import pyplot as plt\n",
    "from name import Name\n",
    "from pandas.plotting import register_matplotlib_converters\n",
    "from raw_data import RawData\n",
    "from sklearn.metrics import accuracy_score, f1_score, precision_score, recall_score\n",
    "from sklearn.model_selection import TimeSeriesSplit, train_test_split\n",
    "from symbol_data import SymbolData\n",
    "\n",
    "register_matplotlib_converters()"
   ]
  },
  {
   "cell_type": "markdown",
   "id": "af66c8f2-9efe-49c9-9332-cd5a8aadc826",
   "metadata": {},
   "source": [
    "## Functions & Classes"
   ]
  },
  {
   "cell_type": "code",
   "execution_count": 2,
   "id": "14f6a7fa-1289-492b-9a53-159adeadab4a",
   "metadata": {},
   "outputs": [],
   "source": [
    "def create_datamart(\n",
    "    ticker: str,\n",
    "    num_lag: int = 5,\n",
    "    days_before: int = 1,\n",
    "    single_values: str = \"close\",\n",
    "    nation: str = \"US\",\n",
    ") -> pd.DataFrame:\n",
    "    \"\"\"データマートを生成する。\"\"\"\n",
    "    name = Name(ticker, nation)\n",
    "    ticker = name.ticker\n",
    "    symbol_data = SymbolData(ticker).symbol_data\n",
    "    raw_data = RawData(symbol_data).raw_data\n",
    "    return Datamart(raw_data, single_values, num_lag, days_before, ticker).datamart"
   ]
  },
  {
   "cell_type": "code",
   "execution_count": 188,
   "id": "83125cd5-38f5-43d2-8925-e9b52fc882ba",
   "metadata": {},
   "outputs": [],
   "source": [
    "class ModelTimeSeries:\n",
    "    \"\"\"Model class predicts future price, up or down.\n",
    "    Use LightGBM as a predictor model.\n",
    "    Args:\n",
    "        datamart: the stock datamart you want to predict\n",
    "        feature: explanatory variables\n",
    "    \"\"\"\n",
    "\n",
    "    def __init__(self, datamart, feature):\n",
    "        self._datamart = datamart\n",
    "        self._feature = feature\n",
    "\n",
    "    @property\n",
    "    def _df(self):\n",
    "        _df = pd.concat([self._datamart, self._feature], axis=1)\n",
    "        _df.index = pd.to_datetime(_df.index, unit=\"ms\")\n",
    "        return _df\n",
    "\n",
    "    @property\n",
    "    def _X(self):\n",
    "        # TODO: 予測対象日の株価は特徴量として使用しない\n",
    "        col = [_col for _col in self._df.columns if \"N-0\" not in _col]\n",
    "        col.remove(\"target\")\n",
    "        return self._df[col]\n",
    "\n",
    "    @property\n",
    "    def _y(self):\n",
    "        return self._df[\"target\"]\n",
    "\n",
    "    def _train_test_split(self):\n",
    "        # WARNING: wrong description. Don't use this desc.\n",
    "        self.X_train, self.X_test, self.y_train, self.y_test = train_test_split(\n",
    "            self._X, self._y, test_size=0.3, random_state=0\n",
    "        )\n",
    "\n",
    "    def fit(self):\n",
    "        self._train_test_split()\n",
    "        self.clf = lgb.LGBMClassifier()\n",
    "        self.clf.fit(self.X_train, self.y_train)\n",
    "\n",
    "    def predict(self):\n",
    "        self.fit()\n",
    "        self.y_pred = self.clf.predict(self.X_test)\n",
    "        return self.y_pred\n",
    "\n",
    "    def cv_time_series(self, data):\n",
    "        # データの並び順を元に分割する\n",
    "        folds = TimeSeriesSplit(n_splits=5)\n",
    "        # 学習用のデータとテスト用のデータに分割するためのインデックス情報を得る\n",
    "        idx = []\n",
    "        clfs = []\n",
    "        f1_scores = []\n",
    "        for i, (train_index, test_index) in enumerate(folds.split(data)):\n",
    "            idx.append((train_index, test_index))\n",
    "            train = data.loc[idx[i][0]]\n",
    "            test = data.loc[idx[i][1]]\n",
    "            col = [_col for _col in data.columns if \"N-0\" not in _col]\n",
    "            col.remove(\"target\")\n",
    "            col.remove(\"timestamp\")\n",
    "            X_train, X_test, y_train, y_test = (\n",
    "                train[col],\n",
    "                test[col],\n",
    "                train[\"target\"],\n",
    "                test[\"target\"],\n",
    "            )\n",
    "            clf = lgb.LGBMClassifier()\n",
    "            clf.fit(X_train, y_train)\n",
    "            print(f\" Validation {i+1} \".center(50, \"-\"))\n",
    "            print(\"Accuracy Score:\", accuracy_score(y_test, clf.predict(X_test)))\n",
    "            print(\n",
    "                \"Precision Score:\",\n",
    "                precision_score(y_test, clf.predict(X_test), zero_division=0),\n",
    "            )\n",
    "            print(\n",
    "                \"Recall Score:\",\n",
    "                recall_score(y_test, clf.predict(X_test), zero_division=0),\n",
    "            )\n",
    "            print(\"F1 Score:\", f1_score(y_test, clf.predict(X_test)))\n",
    "            clfs.append(clf)\n",
    "            f1_scores.append(f1_score(y_test, clf.predict(X_test)))\n",
    "        f1_score_max = max(f1_scores)\n",
    "        idx_max = f1_scores.index(f1_score_max)\n",
    "        clf_max = clfs[idx_max]\n",
    "        return clf_max, f1_score_max"
   ]
  },
  {
   "cell_type": "markdown",
   "id": "cabb0be9-dbc8-49e6-9464-82c5ef66232c",
   "metadata": {},
   "source": [
    "# Main"
   ]
  },
  {
   "cell_type": "code",
   "execution_count": 66,
   "id": "7da163cb-675d-40d1-ada5-c137f714c347",
   "metadata": {},
   "outputs": [],
   "source": [
    "datamart_msft = create_datamart(\"msft\")\n",
    "datamart_dia = create_datamart(\"dia\")\n",
    "datamart_spy = create_datamart(\"spy\")"
   ]
  },
  {
   "cell_type": "code",
   "execution_count": 67,
   "id": "fd5f7b7e-a1f4-4c19-94de-29c8ad4b590d",
   "metadata": {},
   "outputs": [],
   "source": [
    "features = Feature([datamart_dia, datamart_spy]).concat_datamarts()"
   ]
  },
  {
   "cell_type": "markdown",
   "id": "a3ebb749-2dba-4ae8-9e98-6d2ce86e5355",
   "metadata": {},
   "source": [
    "## 誤った予測アルゴリズム"
   ]
  },
  {
   "cell_type": "code",
   "execution_count": 189,
   "id": "9a0cbfb5-134d-4925-ab4b-3aacc8006190",
   "metadata": {},
   "outputs": [],
   "source": [
    "model = ModelTimeSeries(datamart_msft, features)"
   ]
  },
  {
   "cell_type": "code",
   "execution_count": 190,
   "id": "8c40e67d-a514-44a0-b183-16bdb72412e4",
   "metadata": {},
   "outputs": [],
   "source": [
    "model.fit()"
   ]
  },
  {
   "cell_type": "code",
   "execution_count": 191,
   "id": "354886eb-49ff-4ee1-969d-fe5afeec5596",
   "metadata": {},
   "outputs": [
    {
     "data": {
      "text/plain": [
       "array([1, 1, 0, 1, 0, 1, 1, 0, 0, 1, 0, 0, 1, 1, 0, 0, 0, 1, 1, 0, 1, 1,\n",
       "       0, 1, 0, 1, 1, 1, 1, 1, 0, 0, 1, 0, 0, 1, 1, 1, 1, 1, 0, 1, 1, 1,\n",
       "       0, 0, 1, 0, 0, 1, 1, 1, 1, 1, 1, 1, 0, 0, 0, 1, 0, 1, 1, 1, 1, 0,\n",
       "       1, 1, 0, 0, 1, 1, 1, 1, 1, 1, 0, 0, 0, 0, 1, 1, 1, 0])"
      ]
     },
     "execution_count": 191,
     "metadata": {},
     "output_type": "execute_result"
    }
   ],
   "source": [
    "model.predict()"
   ]
  },
  {
   "cell_type": "code",
   "execution_count": 192,
   "id": "49cf4bf9-35b0-43d0-b584-5e438ba05c6a",
   "metadata": {},
   "outputs": [],
   "source": [
    "# 問題なく予測できているが、下記の通り学習、テストデータに使用しているデータの日時に問題がある。"
   ]
  },
  {
   "cell_type": "code",
   "execution_count": 193,
   "id": "e0c5c8fe-df82-4cdd-ad86-f919983a32a4",
   "metadata": {},
   "outputs": [
    {
     "name": "stdout",
     "output_type": "stream",
     "text": [
      "学習データ期間 2021-01-06 14:30:00 ~ 2022-02-11 14:30:00\n",
      "テストデータ期間 2021-01-05 14:30:00 2022-02-04 14:30:00\n"
     ]
    }
   ],
   "source": [
    "print(\"学習データ期間\", model.X_train.index.min(), \"~\", model.X_train.index.max())\n",
    "print(\"テストデータ期間\", model.X_test.index.min(), model.X_test.index.max())"
   ]
  },
  {
   "cell_type": "markdown",
   "id": "3971762f-64f1-456a-9325-6fac63a378d3",
   "metadata": {},
   "source": [
    "- 学習データはモデル構築に、テストデータは構築されたモデルの妥当性の確認に使用したい。\n",
    "- 上記の例だと、2022/2/11の株価の値を使用してモデルを構築し、2022/2/4の株価の値を正しく予測できるか確認していることになる。\n",
    "- 2022/2/4の株価の値を予測する際に使用できるのは、2022/2/3までのデータである。\n",
    "- TODO: これらを踏まえ、学習データとテストデータの分割方法を現状の_train_test_splitから変更する必要がある。"
   ]
  },
  {
   "cell_type": "markdown",
   "id": "58eeab13-b967-4d72-ac4a-4f8030a4933a",
   "metadata": {},
   "source": [
    "## 正しいアルゴリズム"
   ]
  },
  {
   "cell_type": "code",
   "execution_count": 194,
   "id": "daf9a274-793b-4c3d-9107-7a5803abacbc",
   "metadata": {},
   "outputs": [
    {
     "data": {
      "text/html": [
       "<div>\n",
       "<style scoped>\n",
       "    .dataframe tbody tr th:only-of-type {\n",
       "        vertical-align: middle;\n",
       "    }\n",
       "\n",
       "    .dataframe tbody tr th {\n",
       "        vertical-align: top;\n",
       "    }\n",
       "\n",
       "    .dataframe thead th {\n",
       "        text-align: right;\n",
       "    }\n",
       "</style>\n",
       "<table border=\"1\" class=\"dataframe\">\n",
       "  <thead>\n",
       "    <tr style=\"text-align: right;\">\n",
       "      <th></th>\n",
       "      <th>timestamp</th>\n",
       "      <th>target</th>\n",
       "      <th>msft_close_N-0</th>\n",
       "      <th>msft_close_N-1</th>\n",
       "      <th>msft_close_N-2</th>\n",
       "      <th>msft_close_N-3</th>\n",
       "      <th>msft_close_N-4</th>\n",
       "      <th>msft_close_N-5</th>\n",
       "      <th>dia_close_N-0</th>\n",
       "      <th>dia_close_N-1</th>\n",
       "      <th>dia_close_N-2</th>\n",
       "      <th>dia_close_N-3</th>\n",
       "      <th>dia_close_N-4</th>\n",
       "      <th>dia_close_N-5</th>\n",
       "      <th>spy_close_N-0</th>\n",
       "      <th>spy_close_N-1</th>\n",
       "      <th>spy_close_N-2</th>\n",
       "      <th>spy_close_N-3</th>\n",
       "      <th>spy_close_N-4</th>\n",
       "      <th>spy_close_N-5</th>\n",
       "    </tr>\n",
       "  </thead>\n",
       "  <tbody>\n",
       "    <tr>\n",
       "      <th>0</th>\n",
       "      <td>2021-01-05 14:30:00</td>\n",
       "      <td>1</td>\n",
       "      <td>217.899994</td>\n",
       "      <td>217.690002</td>\n",
       "      <td>222.419998</td>\n",
       "      <td>221.679993</td>\n",
       "      <td>224.149994</td>\n",
       "      <td>224.960007</td>\n",
       "      <td>303.839996</td>\n",
       "      <td>302.320007</td>\n",
       "      <td>305.790009</td>\n",
       "      <td>304.130005</td>\n",
       "      <td>303.459991</td>\n",
       "      <td>304.000000</td>\n",
       "      <td>371.329987</td>\n",
       "      <td>368.790009</td>\n",
       "      <td>373.880005</td>\n",
       "      <td>371.989990</td>\n",
       "      <td>371.459991</td>\n",
       "      <td>372.170013</td>\n",
       "    </tr>\n",
       "    <tr>\n",
       "      <th>1</th>\n",
       "      <td>2021-01-06 14:30:00</td>\n",
       "      <td>0</td>\n",
       "      <td>212.250000</td>\n",
       "      <td>217.899994</td>\n",
       "      <td>217.690002</td>\n",
       "      <td>222.419998</td>\n",
       "      <td>221.679993</td>\n",
       "      <td>224.149994</td>\n",
       "      <td>308.209991</td>\n",
       "      <td>303.839996</td>\n",
       "      <td>302.320007</td>\n",
       "      <td>305.790009</td>\n",
       "      <td>304.130005</td>\n",
       "      <td>303.459991</td>\n",
       "      <td>373.549988</td>\n",
       "      <td>371.329987</td>\n",
       "      <td>368.790009</td>\n",
       "      <td>373.880005</td>\n",
       "      <td>371.989990</td>\n",
       "      <td>371.459991</td>\n",
       "    </tr>\n",
       "    <tr>\n",
       "      <th>2</th>\n",
       "      <td>2021-01-07 14:30:00</td>\n",
       "      <td>1</td>\n",
       "      <td>218.289993</td>\n",
       "      <td>212.250000</td>\n",
       "      <td>217.899994</td>\n",
       "      <td>217.690002</td>\n",
       "      <td>222.419998</td>\n",
       "      <td>221.679993</td>\n",
       "      <td>310.500000</td>\n",
       "      <td>308.209991</td>\n",
       "      <td>303.839996</td>\n",
       "      <td>302.320007</td>\n",
       "      <td>305.790009</td>\n",
       "      <td>304.130005</td>\n",
       "      <td>379.100006</td>\n",
       "      <td>373.549988</td>\n",
       "      <td>371.329987</td>\n",
       "      <td>368.790009</td>\n",
       "      <td>373.880005</td>\n",
       "      <td>371.989990</td>\n",
       "    </tr>\n",
       "    <tr>\n",
       "      <th>3</th>\n",
       "      <td>2021-01-08 14:30:00</td>\n",
       "      <td>1</td>\n",
       "      <td>219.619995</td>\n",
       "      <td>218.289993</td>\n",
       "      <td>212.250000</td>\n",
       "      <td>217.899994</td>\n",
       "      <td>217.690002</td>\n",
       "      <td>222.419998</td>\n",
       "      <td>311.040009</td>\n",
       "      <td>310.500000</td>\n",
       "      <td>308.209991</td>\n",
       "      <td>303.839996</td>\n",
       "      <td>302.320007</td>\n",
       "      <td>305.790009</td>\n",
       "      <td>381.260010</td>\n",
       "      <td>379.100006</td>\n",
       "      <td>373.549988</td>\n",
       "      <td>371.329987</td>\n",
       "      <td>368.790009</td>\n",
       "      <td>373.880005</td>\n",
       "    </tr>\n",
       "    <tr>\n",
       "      <th>4</th>\n",
       "      <td>2021-01-11 14:30:00</td>\n",
       "      <td>0</td>\n",
       "      <td>217.490005</td>\n",
       "      <td>219.619995</td>\n",
       "      <td>218.289993</td>\n",
       "      <td>212.250000</td>\n",
       "      <td>217.899994</td>\n",
       "      <td>217.690002</td>\n",
       "      <td>310.170013</td>\n",
       "      <td>311.040009</td>\n",
       "      <td>310.500000</td>\n",
       "      <td>308.209991</td>\n",
       "      <td>303.839996</td>\n",
       "      <td>302.320007</td>\n",
       "      <td>378.690002</td>\n",
       "      <td>381.260010</td>\n",
       "      <td>379.100006</td>\n",
       "      <td>373.549988</td>\n",
       "      <td>371.329987</td>\n",
       "      <td>368.790009</td>\n",
       "    </tr>\n",
       "  </tbody>\n",
       "</table>\n",
       "</div>"
      ],
      "text/plain": [
       "            timestamp  target  msft_close_N-0  msft_close_N-1  msft_close_N-2  \\\n",
       "0 2021-01-05 14:30:00       1      217.899994      217.690002      222.419998   \n",
       "1 2021-01-06 14:30:00       0      212.250000      217.899994      217.690002   \n",
       "2 2021-01-07 14:30:00       1      218.289993      212.250000      217.899994   \n",
       "3 2021-01-08 14:30:00       1      219.619995      218.289993      212.250000   \n",
       "4 2021-01-11 14:30:00       0      217.490005      219.619995      218.289993   \n",
       "\n",
       "   msft_close_N-3  msft_close_N-4  msft_close_N-5  dia_close_N-0  \\\n",
       "0      221.679993      224.149994      224.960007     303.839996   \n",
       "1      222.419998      221.679993      224.149994     308.209991   \n",
       "2      217.690002      222.419998      221.679993     310.500000   \n",
       "3      217.899994      217.690002      222.419998     311.040009   \n",
       "4      212.250000      217.899994      217.690002     310.170013   \n",
       "\n",
       "   dia_close_N-1  dia_close_N-2  dia_close_N-3  dia_close_N-4  dia_close_N-5  \\\n",
       "0     302.320007     305.790009     304.130005     303.459991     304.000000   \n",
       "1     303.839996     302.320007     305.790009     304.130005     303.459991   \n",
       "2     308.209991     303.839996     302.320007     305.790009     304.130005   \n",
       "3     310.500000     308.209991     303.839996     302.320007     305.790009   \n",
       "4     311.040009     310.500000     308.209991     303.839996     302.320007   \n",
       "\n",
       "   spy_close_N-0  spy_close_N-1  spy_close_N-2  spy_close_N-3  spy_close_N-4  \\\n",
       "0     371.329987     368.790009     373.880005     371.989990     371.459991   \n",
       "1     373.549988     371.329987     368.790009     373.880005     371.989990   \n",
       "2     379.100006     373.549988     371.329987     368.790009     373.880005   \n",
       "3     381.260010     379.100006     373.549988     371.329987     368.790009   \n",
       "4     378.690002     381.260010     379.100006     373.549988     371.329987   \n",
       "\n",
       "   spy_close_N-5  \n",
       "0     372.170013  \n",
       "1     371.459991  \n",
       "2     371.989990  \n",
       "3     373.880005  \n",
       "4     368.790009  "
      ]
     },
     "execution_count": 194,
     "metadata": {},
     "output_type": "execute_result"
    }
   ],
   "source": [
    "# NOTE: まずデータを古い順に並び替える。\n",
    "data = model._df.sort_index().reset_index()\n",
    "data.head()"
   ]
  },
  {
   "cell_type": "code",
   "execution_count": 195,
   "id": "2b59d57c-244f-4be3-bf40-d9ad4dd5ad92",
   "metadata": {},
   "outputs": [],
   "source": [
    "# NOTE: 日時を表す列名、予測対象日の株価の列名を定義する。\n",
    "date_time = \"timestamp\"\n",
    "target = \"msft_close_N-0\""
   ]
  },
  {
   "cell_type": "code",
   "execution_count": 196,
   "id": "961cf0ef-a326-4375-bc65-94f52aeaffa4",
   "metadata": {},
   "outputs": [
    {
     "name": "stdout",
     "output_type": "stream",
     "text": [
      "index of train: [ 0  1  2  3  4  5  6  7  8  9 10 11 12 13 14 15 16 17 18 19 20 21 22 23\n",
      " 24 25 26 27 28 29 30 31 32 33 34 35 36 37 38 39 40 41 42 43 44 45 46 47\n",
      " 48 49]\n",
      "index of test: [50 51 52 53 54 55 56 57 58 59 60 61 62 63 64 65 66 67 68 69 70 71 72 73\n",
      " 74 75 76 77 78 79 80 81 82 83 84 85 86 87 88 89 90 91 92 93 94 95]\n",
      "----------\n",
      "index of train: [ 0  1  2  3  4  5  6  7  8  9 10 11 12 13 14 15 16 17 18 19 20 21 22 23\n",
      " 24 25 26 27 28 29 30 31 32 33 34 35 36 37 38 39 40 41 42 43 44 45 46 47\n",
      " 48 49 50 51 52 53 54 55 56 57 58 59 60 61 62 63 64 65 66 67 68 69 70 71\n",
      " 72 73 74 75 76 77 78 79 80 81 82 83 84 85 86 87 88 89 90 91 92 93 94 95]\n",
      "index of test: [ 96  97  98  99 100 101 102 103 104 105 106 107 108 109 110 111 112 113\n",
      " 114 115 116 117 118 119 120 121 122 123 124 125 126 127 128 129 130 131\n",
      " 132 133 134 135 136 137 138 139 140 141]\n",
      "----------\n",
      "index of train: [  0   1   2   3   4   5   6   7   8   9  10  11  12  13  14  15  16  17\n",
      "  18  19  20  21  22  23  24  25  26  27  28  29  30  31  32  33  34  35\n",
      "  36  37  38  39  40  41  42  43  44  45  46  47  48  49  50  51  52  53\n",
      "  54  55  56  57  58  59  60  61  62  63  64  65  66  67  68  69  70  71\n",
      "  72  73  74  75  76  77  78  79  80  81  82  83  84  85  86  87  88  89\n",
      "  90  91  92  93  94  95  96  97  98  99 100 101 102 103 104 105 106 107\n",
      " 108 109 110 111 112 113 114 115 116 117 118 119 120 121 122 123 124 125\n",
      " 126 127 128 129 130 131 132 133 134 135 136 137 138 139 140 141]\n",
      "index of test: [142 143 144 145 146 147 148 149 150 151 152 153 154 155 156 157 158 159\n",
      " 160 161 162 163 164 165 166 167 168 169 170 171 172 173 174 175 176 177\n",
      " 178 179 180 181 182 183 184 185 186 187]\n",
      "----------\n",
      "index of train: [  0   1   2   3   4   5   6   7   8   9  10  11  12  13  14  15  16  17\n",
      "  18  19  20  21  22  23  24  25  26  27  28  29  30  31  32  33  34  35\n",
      "  36  37  38  39  40  41  42  43  44  45  46  47  48  49  50  51  52  53\n",
      "  54  55  56  57  58  59  60  61  62  63  64  65  66  67  68  69  70  71\n",
      "  72  73  74  75  76  77  78  79  80  81  82  83  84  85  86  87  88  89\n",
      "  90  91  92  93  94  95  96  97  98  99 100 101 102 103 104 105 106 107\n",
      " 108 109 110 111 112 113 114 115 116 117 118 119 120 121 122 123 124 125\n",
      " 126 127 128 129 130 131 132 133 134 135 136 137 138 139 140 141 142 143\n",
      " 144 145 146 147 148 149 150 151 152 153 154 155 156 157 158 159 160 161\n",
      " 162 163 164 165 166 167 168 169 170 171 172 173 174 175 176 177 178 179\n",
      " 180 181 182 183 184 185 186 187]\n",
      "index of test: [188 189 190 191 192 193 194 195 196 197 198 199 200 201 202 203 204 205\n",
      " 206 207 208 209 210 211 212 213 214 215 216 217 218 219 220 221 222 223\n",
      " 224 225 226 227 228 229 230 231 232 233]\n",
      "----------\n",
      "index of train: [  0   1   2   3   4   5   6   7   8   9  10  11  12  13  14  15  16  17\n",
      "  18  19  20  21  22  23  24  25  26  27  28  29  30  31  32  33  34  35\n",
      "  36  37  38  39  40  41  42  43  44  45  46  47  48  49  50  51  52  53\n",
      "  54  55  56  57  58  59  60  61  62  63  64  65  66  67  68  69  70  71\n",
      "  72  73  74  75  76  77  78  79  80  81  82  83  84  85  86  87  88  89\n",
      "  90  91  92  93  94  95  96  97  98  99 100 101 102 103 104 105 106 107\n",
      " 108 109 110 111 112 113 114 115 116 117 118 119 120 121 122 123 124 125\n",
      " 126 127 128 129 130 131 132 133 134 135 136 137 138 139 140 141 142 143\n",
      " 144 145 146 147 148 149 150 151 152 153 154 155 156 157 158 159 160 161\n",
      " 162 163 164 165 166 167 168 169 170 171 172 173 174 175 176 177 178 179\n",
      " 180 181 182 183 184 185 186 187 188 189 190 191 192 193 194 195 196 197\n",
      " 198 199 200 201 202 203 204 205 206 207 208 209 210 211 212 213 214 215\n",
      " 216 217 218 219 220 221 222 223 224 225 226 227 228 229 230 231 232 233]\n",
      "index of test: [234 235 236 237 238 239 240 241 242 243 244 245 246 247 248 249 250 251\n",
      " 252 253 254 255 256 257 258 259 260 261 262 263 264 265 266 267 268 269\n",
      " 270 271 272 273 274 275 276 277 278 279]\n",
      "----------\n"
     ]
    },
    {
     "data": {
      "image/png": "[encoded data removed]",
      "text/plain": [
       "<Figure size 864x864 with 5 Axes>"
      ]
     },
     "metadata": {
      "needs_background": "light"
     },
     "output_type": "display_data"
    }
   ],
   "source": [
    "# NOTE: データセットの分割方法としては、このセルを実行することで表示される5パターンなどが望ましい。\n",
    "\n",
    "\n",
    "def viz_train_test(data: pd.DataFrame, date_time: str, target: str):\n",
    "    # データの並び順を元に分割する\n",
    "    folds = TimeSeriesSplit(n_splits=5)\n",
    "\n",
    "    # 5 枚のグラフを用意する\n",
    "    fig, axes = plt.subplots(5, 1, figsize=(12, 12))\n",
    "\n",
    "    # 学習用のデータとテスト用のデータに分割するためのインデックス情報を得る\n",
    "    for i, (train_index, test_index) in enumerate(folds.split(data)):\n",
    "        # 生のインデックス\n",
    "        print(f\"index of train: {train_index}\")\n",
    "        print(f\"index of test: {test_index}\")\n",
    "        print(\"----------\")\n",
    "        # 元のデータを描く\n",
    "        sns.lineplot(data=data, x=date_time, y=target, ax=axes[i], label=\"original\")\n",
    "        # 学習用データを描く\n",
    "        sns.lineplot(\n",
    "            data=data.iloc[train_index],\n",
    "            x=date_time,\n",
    "            y=target,\n",
    "            ax=axes[i],\n",
    "            label=\"train\",\n",
    "        )\n",
    "        # テスト用データを描く\n",
    "        sns.lineplot(\n",
    "            data=data.iloc[test_index],\n",
    "            x=date_time,\n",
    "            y=target,\n",
    "            ax=axes[i],\n",
    "            label=\"test\",\n",
    "        )\n",
    "\n",
    "    # グラフを表示する\n",
    "    plt.legend()\n",
    "    plt.show()\n",
    "\n",
    "\n",
    "viz_train_test(data, date_time, target)"
   ]
  },
  {
   "cell_type": "code",
   "execution_count": 197,
   "id": "a3ec80da-4b51-4c70-adc5-d31c6f8d22d9",
   "metadata": {},
   "outputs": [
    {
     "name": "stdout",
     "output_type": "stream",
     "text": [
      "------------------ Validation 1 ------------------\n",
      "Accuracy Score: 0.5434782608695652\n",
      "Precision Score: 0.75\n",
      "Recall Score: 0.13043478260869565\n",
      "F1 Score: 0.22222222222222218\n",
      "------------------ Validation 2 ------------------\n",
      "Accuracy Score: 0.43478260869565216\n",
      "Precision Score: 0.0\n",
      "Recall Score: 0.0\n",
      "F1 Score: 0.0\n",
      "------------------ Validation 3 ------------------\n",
      "Accuracy Score: 0.5217391304347826\n",
      "Precision Score: 0.5\n",
      "Recall Score: 0.18181818181818182\n",
      "F1 Score: 0.26666666666666666\n",
      "------------------ Validation 4 ------------------\n",
      "Accuracy Score: 0.45652173913043476\n",
      "Precision Score: 0.6\n",
      "Recall Score: 0.11538461538461539\n",
      "F1 Score: 0.1935483870967742\n",
      "------------------ Validation 5 ------------------\n",
      "Accuracy Score: 0.43478260869565216\n",
      "Precision Score: 0.4594594594594595\n",
      "Recall Score: 0.7391304347826086\n",
      "F1 Score: 0.5666666666666667\n"
     ]
    },
    {
     "data": {
      "text/plain": [
       "(LGBMClassifier(), 0.5666666666666667)"
      ]
     },
     "execution_count": 197,
     "metadata": {},
     "output_type": "execute_result"
    }
   ],
   "source": [
    "model.cv_time_series(data)"
   ]
  }
 ],
 "metadata": {
  "kernelspec": {
   "display_name": "Python 3 (ipykernel)",
   "language": "python",
   "name": "python3"
  },
  "language_info": {
   "codemirror_mode": {
    "name": "ipython",
    "version": 3
   },
   "file_extension": ".py",
   "mimetype": "text/x-python",
   "name": "python",
   "nbconvert_exporter": "python",
   "pygments_lexer": "ipython3",
   "version": "3.8.9"
  }
 },
 "nbformat": 4,
 "nbformat_minor": 5
}
