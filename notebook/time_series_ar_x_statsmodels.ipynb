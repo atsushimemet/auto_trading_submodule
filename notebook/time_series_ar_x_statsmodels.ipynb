{
 "cells": [
  {
   "cell_type": "markdown",
   "id": "741de030-a00f-4439-b3cf-efac7124dfca",
   "metadata": {
    "tags": []
   },
   "source": [
    "# 参考資料\n",
    "- [時系列分析のARモデルとは？](https://ai-trend.jp/basic-study/time-series-analysis/time-series-analysis-armodel/)\n",
    "  - このノートブックで実装したModelはAR + 外生変数のARXモデル。\n",
    "- [PythonによるSARIMAXモデルを使った「TVCMの効果検証」への挑戦](https://www.lifull.blog/entry/2019/12/25/151030#%E3%81%AF%E3%81%98%E3%82%81%E3%81%AB-SARIMAX%E3%83%A2%E3%83%87%E3%83%AB%E3%81%A8%E3%81%AF)\n",
    "  - Xは外生変数。このノートブックの例では、DIA、SPAを外生変数と仮定。"
   ]
  },
  {
   "cell_type": "markdown",
   "id": "782c3038-00a6-430e-bc0c-500fc8ca1d8e",
   "metadata": {},
   "source": [
    "# Environment"
   ]
  },
  {
   "cell_type": "markdown",
   "id": "21166be4-678a-4eb8-8fed-9fb765e12a65",
   "metadata": {},
   "source": [
    "## Libraries"
   ]
  },
  {
   "cell_type": "code",
   "execution_count": 2,
   "id": "d4593051-a36c-4dd4-8536-7b00ec9c783e",
   "metadata": {},
   "outputs": [],
   "source": [
    "import sys\n",
    "\n",
    "sys.path.append(\"../\")\n",
    "import pandas as pd\n",
    "import statsmodels.api as sm\n",
    "from sklearn.linear_model import LinearRegression\n",
    "from sklearn.model_selection import train_test_split\n",
    "\n",
    "from datamart import Datamart\n",
    "from feature import Feature\n",
    "from model import Model\n",
    "from name import Name\n",
    "from raw_data import RawData\n",
    "from symbol_data import SymbolData"
   ]
  },
  {
   "cell_type": "markdown",
   "id": "af66c8f2-9efe-49c9-9332-cd5a8aadc826",
   "metadata": {},
   "source": [
    "## Functions & Classes"
   ]
  },
  {
   "cell_type": "code",
   "execution_count": 5,
   "id": "14f6a7fa-1289-492b-9a53-159adeadab4a",
   "metadata": {},
   "outputs": [],
   "source": [
    "def create_datamart(\n",
    "    ticker: str,\n",
    "    num_lag: int = 5,\n",
    "    days_before: int = 1,\n",
    "    single_values: str = \"close\",\n",
    "    nation: str = \"US\",\n",
    ") -> pd.DataFrame:\n",
    "    \"\"\"データマートを生成する。\"\"\"\n",
    "    name = Name(ticker, nation)\n",
    "    ticker = name.ticker\n",
    "    symbol_data = SymbolData(ticker).symbol_data\n",
    "    raw_data = RawData(symbol_data).raw_data\n",
    "    return Datamart(raw_data, single_values, num_lag, days_before, ticker).datamart"
   ]
  },
  {
   "cell_type": "code",
   "execution_count": 60,
   "id": "14d618e6-865d-4ab0-953c-e1a9b81df41e",
   "metadata": {},
   "outputs": [],
   "source": [
    "class ModelARX:\n",
    "    \"\"\"Model class predicts future price, up or down.\n",
    "    Use Linear Regression as a predictor model.\n",
    "    Args:\n",
    "        datamart: the stock datamart you want to predict\n",
    "        feature: explanatory variables\n",
    "    \"\"\"\n",
    "\n",
    "    def __init__(self, datamart, feature):\n",
    "        self._datamart = datamart\n",
    "        self._feature = feature\n",
    "\n",
    "    def fit(self):\n",
    "        self.df = pd.concat([self._datamart, self._feature], axis=1)\n",
    "        self.X = self.df.iloc[:, 1:]\n",
    "        self.X = sm.add_constant(self.X)\n",
    "        self.y = self.df[\"target\"]\n",
    "        self.X_train, self.X_test, self.y_train, self.y_test = train_test_split(\n",
    "            self.X, self.y, test_size=0.3, random_state=0\n",
    "        )\n",
    "        self.reg = sm.OLS(self.y_train, self.X_train)\n",
    "        self.reg = self.reg.fit()\n",
    "\n",
    "    def predict(self):\n",
    "        self.y_pred = self.reg.predict(self.X_test)\n",
    "        return self.y_pred\n",
    "\n",
    "    def summary(self):\n",
    "        print(self.reg.summary())"
   ]
  },
  {
   "cell_type": "markdown",
   "id": "cabb0be9-dbc8-49e6-9464-82c5ef66232c",
   "metadata": {},
   "source": [
    "# Main"
   ]
  },
  {
   "cell_type": "code",
   "execution_count": 61,
   "id": "7da163cb-675d-40d1-ada5-c137f714c347",
   "metadata": {},
   "outputs": [],
   "source": [
    "datamart_msft = create_datamart(\"msft\")\n",
    "datamart_dia = create_datamart(\"dia\")\n",
    "datamart_spy = create_datamart(\"spy\")"
   ]
  },
  {
   "cell_type": "code",
   "execution_count": 7,
   "id": "fd5f7b7e-a1f4-4c19-94de-29c8ad4b590d",
   "metadata": {},
   "outputs": [],
   "source": [
    "features = Feature([datamart_dia, datamart_spy]).concat_datamarts()"
   ]
  },
  {
   "cell_type": "code",
   "execution_count": 62,
   "id": "9a0cbfb5-134d-4925-ab4b-3aacc8006190",
   "metadata": {},
   "outputs": [],
   "source": [
    "model = ModelARX(datamart_msft, features)"
   ]
  },
  {
   "cell_type": "code",
   "execution_count": 63,
   "id": "5efb4db6-e8ae-4fde-badd-bf7436e6bf24",
   "metadata": {},
   "outputs": [],
   "source": [
    "model.fit()"
   ]
  },
  {
   "cell_type": "code",
   "execution_count": 64,
   "id": "d985798b-501b-4803-be05-b8645216ddbc",
   "metadata": {},
   "outputs": [
    {
     "data": {
      "text/plain": [
       "timestamp\n",
       "1611671400000    0.807774\n",
       "1643207400000    1.358820\n",
       "1631021400000    0.423499\n",
       "1634563800000    0.723877\n",
       "1613572200000    0.523351\n",
       "                   ...   \n",
       "1637764200000    0.468806\n",
       "1625059800000    0.524280\n",
       "1642516200000   -0.172654\n",
       "1623936600000    0.794442\n",
       "1616592600000    0.303118\n",
       "Length: 84, dtype: float64"
      ]
     },
     "execution_count": 64,
     "metadata": {},
     "output_type": "execute_result"
    }
   ],
   "source": [
    "model.predict()"
   ]
  },
  {
   "cell_type": "code",
   "execution_count": 65,
   "id": "482f634a-4806-49ec-a457-cf834ee26434",
   "metadata": {},
   "outputs": [
    {
     "name": "stdout",
     "output_type": "stream",
     "text": [
      "                            OLS Regression Results                            \n",
      "==============================================================================\n",
      "Dep. Variable:                 target   R-squared:                       0.580\n",
      "Model:                            OLS   Adj. R-squared:                  0.537\n",
      "Method:                 Least Squares   F-statistic:                     13.58\n",
      "Date:                Sat, 12 Feb 2022   Prob (F-statistic):           8.45e-25\n",
      "Time:                        16:27:35   Log-Likelihood:                -57.055\n",
      "No. Observations:                 196   AIC:                             152.1\n",
      "Df Residuals:                     177   BIC:                             214.4\n",
      "Df Model:                          18                                         \n",
      "Covariance Type:            nonrobust                                         \n",
      "==================================================================================\n",
      "                     coef    std err          t      P>|t|      [0.025      0.975]\n",
      "----------------------------------------------------------------------------------\n",
      "const              0.1592      0.758      0.210      0.834      -1.337       1.655\n",
      "msft_close_N-0     0.0976      0.013      7.515      0.000       0.072       0.123\n",
      "msft_close_N-1    -0.0956      0.018     -5.407      0.000      -0.131      -0.061\n",
      "msft_close_N-2    -0.0035      0.016     -0.215      0.830      -0.035       0.028\n",
      "msft_close_N-3    -0.0080      0.017     -0.470      0.639      -0.042       0.026\n",
      "msft_close_N-4     0.0206      0.016      1.307      0.193      -0.010       0.052\n",
      "msft_close_N-5    -0.0142      0.011     -1.260      0.209      -0.036       0.008\n",
      "dia_close_N-0      0.0122      0.027      0.460      0.646      -0.040       0.065\n",
      "dia_close_N-1     -0.0174      0.036     -0.488      0.626      -0.088       0.053\n",
      "dia_close_N-2      0.0235      0.036      0.646      0.519      -0.048       0.095\n",
      "dia_close_N-3     -0.0196      0.039     -0.499      0.619      -0.097       0.058\n",
      "dia_close_N-4      0.0372      0.039      0.960      0.338      -0.039       0.114\n",
      "dia_close_N-5     -0.0413      0.027     -1.539      0.126      -0.094       0.012\n",
      "spy_close_N-0     -0.0102      0.026     -0.399      0.691      -0.061       0.040\n",
      "spy_close_N-1      0.0174      0.034      0.515      0.607      -0.049       0.084\n",
      "spy_close_N-2     -0.0168      0.034     -0.495      0.621      -0.084       0.050\n",
      "spy_close_N-3      0.0103      0.036      0.285      0.776      -0.061       0.082\n",
      "spy_close_N-4     -0.0284      0.035     -0.800      0.425      -0.098       0.042\n",
      "spy_close_N-5      0.0348      0.024      1.440      0.151      -0.013       0.082\n",
      "==============================================================================\n",
      "Omnibus:                      145.564   Durbin-Watson:                   1.860\n",
      "Prob(Omnibus):                  0.000   Jarque-Bera (JB):               13.609\n",
      "Skew:                           0.089   Prob(JB):                      0.00111\n",
      "Kurtosis:                       1.721   Cond. No.                     4.71e+04\n",
      "==============================================================================\n",
      "\n",
      "Notes:\n",
      "[1] Standard Errors assume that the covariance matrix of the errors is correctly specified.\n",
      "[2] The condition number is large, 4.71e+04. This might indicate that there are\n",
      "strong multicollinearity or other numerical problems.\n"
     ]
    }
   ],
   "source": [
    "model.summary()"
   ]
  }
 ],
 "metadata": {
  "kernelspec": {
   "display_name": "Python 3 (ipykernel)",
   "language": "python",
   "name": "python3"
  },
  "language_info": {
   "codemirror_mode": {
    "name": "ipython",
    "version": 3
   },
   "file_extension": ".py",
   "mimetype": "text/x-python",
   "name": "python",
   "nbconvert_exporter": "python",
   "pygments_lexer": "ipython3",
   "version": "3.8.9"
  }
 },
 "nbformat": 4,
 "nbformat_minor": 5
}
